{
 "cells": [
  {
   "cell_type": "code",
   "execution_count": 1,
   "metadata": {},
   "outputs": [],
   "source": [
    "from bs4 import BeautifulSoup\n",
    "import pandas as pd\n",
    "import requests\n",
    "from typing import List"
   ]
  },
  {
   "cell_type": "code",
   "execution_count": 2,
   "metadata": {},
   "outputs": [],
   "source": [
    "class RealEstateScrapper:\n",
    "    def __init__(self, base_url: str) -> None:\n",
    "        self.base_url = base_url\n",
    "        self.df = pd.DataFrame(columns=['title', 'url', 'price', 'rooms', 'area', 'floor', 'bathrooms', 'energy_class', 'year_built', 'current_conditions', 'type', 'other_info'])\n",
    "\n",
    "    def paginate_urls(self, num_pages: int) -> List[str]:\n",
    "        urls = [self.base_url]\n",
    "        for i in range(2, num_pages + 1):\n",
    "            urls.append(self.base_url + f\"&page={i}\")\n",
    "        \n",
    "        return urls\n",
    "    \n",
    "    def get_individual_ad_main_info(self, url: str, soup: BeautifulSoup) -> None:\n",
    "        try:\n",
    "            self.df['title'] = soup.find(\"div\", \"in-titleBlock__content\").find(\"h1\", \"in-titleBlock__title\").text.strip()\n",
    "\n",
    "            self.df['url'] = url\n",
    "\n",
    "            raw_ad_main_info = soup.find(\n",
    "                \"ul\",\n",
    "                attrs=\"nd-list nd-list--pipe in-feat in-feat--full in-feat__mainProperty in-landingDetail__mainFeatures\",\n",
    "            ).find_all(\"li\")\n",
    "\n",
    "            for info in raw_ad_main_info:\n",
    "                if \"€\" in info.text:\n",
    "                    self.df[\"price\"] = info.text.strip()\n",
    "                elif \"locali\" in info[\"aria-label\"] or \"locale\" in info[\"aria-label\"]:\n",
    "                    self.df[\"rooms\"] = info.text.strip()\n",
    "                elif \"m²\" in info.text:\n",
    "                    self.df[\"area\"] = info.text.strip().replace(\"da\", \"\")\n",
    "                elif \"piano\" in info.text:\n",
    "                    self.df[\"floor\"] = info.text.strip()\n",
    "                elif \"bagni\" in info.text:\n",
    "                    self.df[\"bathrooms\"] = info.text.strip()\n",
    "                elif \"classe\" in info.text:\n",
    "                    self.df[\"energy_class\"] = info.text.strip()\n",
    "                elif \"anno\" in info.text:\n",
    "                    self.df[\"year\"] = info.text.strip()\n",
    "                elif \"stato\" in info.text:\n",
    "                    self.df[\"state\"] = info.text.strip()\n",
    "                elif \"tipologie\" in info[\"aria-label\"]:\n",
    "                    self.df[\"type\"] = info.text.strip()\n",
    "                else:\n",
    "                    self.df[\"other_info\"] = info.text.strip()\n",
    "\n",
    "        except:\n",
    "            raise Exception(\"The page main info scrapping failed\")\n",
    "        \n",
    "    def main_scrapper(self):\n",
    "        urls_to_scrape = self.paginate_urls(num_pages=2)\n",
    "\n",
    "        for url in urls_to_scrape:\n",
    "            try:\n",
    "                response = requests.get(url)\n",
    "                if response.status_code != 200:\n",
    "                    raise Exception(\"The page request failed\")\n",
    "                \n",
    "                html_doc = response.text\n",
    "\n",
    "                soup = BeautifulSoup(html_doc, \"lxml\")\n",
    "\n",
    "            except Exception as e:\n",
    "                print(e)\n",
    "                continue"
   ]
  },
  {
   "cell_type": "code",
   "execution_count": null,
   "metadata": {},
   "outputs": [],
   "source": [
    "scrapper = RealEstateScrapper(\n",
    "    \"https://www.immobiliare.it/vendita-case/bologna/?criterio=rilevanza\"\n",
    ")\n",
    "\n",
    "results = scrapper.main_scrapper()\n",
    "results"
   ]
  }
 ],
 "metadata": {
  "kernelspec": {
   "display_name": "venv",
   "language": "python",
   "name": "python3"
  },
  "language_info": {
   "codemirror_mode": {
    "name": "ipython",
    "version": 3
   },
   "file_extension": ".py",
   "mimetype": "text/x-python",
   "name": "python",
   "nbconvert_exporter": "python",
   "pygments_lexer": "ipython3",
   "version": "3.11.6"
  }
 },
 "nbformat": 4,
 "nbformat_minor": 2
}
